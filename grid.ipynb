{
 "cells": [
  {
   "cell_type": "code",
   "execution_count": 126,
   "metadata": {},
   "outputs": [],
   "source": [
    "import matplotlib.pyplot as plt\n",
    "import numpy as np\n",
    "from PIL import Image"
   ]
  },
  {
   "cell_type": "code",
   "execution_count": 127,
   "metadata": {},
   "outputs": [],
   "source": [
    "# TODO globals, probably move elsewhere\n",
    "global Black, White\n",
    "Black = np.array([0, 0, 0])\n",
    "White = (255, 255, 255)\n",
    "\n",
    "blue = (0, 0, 255)\n",
    "green = (0, 255, 0)\n",
    "sky_blue = (159, 197, 232)\n",
    "yellow = (255, 214, 0)\n",
    "land_green = (56, 118, 29)"
   ]
  },
  {
   "cell_type": "code",
   "execution_count": 106,
   "metadata": {},
   "outputs": [],
   "source": [
    "def assign_value(array, value):\n",
    "    \"\"\"Alternative to np.full(), allows for assignment of non-scalar values\"\"\"\n",
    "    \n",
    "    height, width, _ = array.shape\n",
    "    \n",
    "    for i in range(height):\n",
    "        for j in range(width):\n",
    "            array[i][j] = value\n",
    "            \n",
    "    return array"
   ]
  },
  {
   "cell_type": "code",
   "execution_count": 117,
   "metadata": {},
   "outputs": [],
   "source": [
    "def make_canvas(color, width=0, height=0):\n",
    "    \"\"\"Generate a height x width numpy array where each value is a color\"\"\"\n",
    "\n",
    "    # List of RGB values\n",
    "    pixel = np.array(color)\n",
    "    \n",
    "    # Create a height x width matrix filled with zeros\n",
    "    # np.full() value has to be a scalar\n",
    "    zero_array = np.full((height, width, len(color)), 0, dtype=object)\n",
    "\n",
    "    # Assign non-scalar values to the matrix\n",
    "    canvas = assign_value(zero_array, pixel)\n",
    "    \n",
    "    return zero_array"
   ]
  },
  {
   "cell_type": "code",
   "execution_count": 118,
   "metadata": {},
   "outputs": [],
   "source": [
    "def add_arrays(a_original, b, xoffset=0, yoffset=0, method=None):\n",
    "    \"\"\"Add array B to array A\"\"\"\n",
    "    \n",
    "    # I think only necessary cause lack of main()\n",
    "    a = a_original.copy()\n",
    "    \n",
    "    a_height, a_width, _ = a.shape\n",
    "    b_height, b_width, _ = b.shape\n",
    "    \n",
    "    a_row_start = yoffset\n",
    "    a_row_end = a_row_start + b_height\n",
    "    a_col_start = xoffset\n",
    "    a_col_end = a_col_start + b_width\n",
    "            \n",
    "    if a_row_end > a_width or a_col_end > a_height:\n",
    "        raise ValueError(\"Cannot add array B to array A because array B exceeds the dimensions of array A (could be due to offset values).\")\n",
    "    \n",
    "    if method == \"replace\":\n",
    "        assign_value(a[a_row_start : a_row_end, a_col_start : a_col_end], Black)\n",
    "\n",
    "    a[a_row_start : a_row_end, a_col_start : a_col_end] += b\n",
    "    \n",
    "    return a"
   ]
  },
  {
   "cell_type": "code",
   "execution_count": 119,
   "metadata": {},
   "outputs": [],
   "source": [
    "def generate_image(canvas, show_grid=False, show=False, save=False, outdir=None, filename=None):\n",
    "    \"\"\"Generate plot of canvas, bring the numbers to life!\"\"\"\n",
    "    \n",
    "    plt.imshow(canvas.tolist())\n",
    "    \n",
    "    if show_grid:\n",
    "        plt.grid(visible=True)\n",
    "    else:\n",
    "        plt.axis(\"off\")\n",
    "    \n",
    "    if save:\n",
    "        plt.savefig(f\"{outdir}/{filename}\")\n",
    "    if show:\n",
    "        plt.show()"
   ]
  },
  {
   "cell_type": "code",
   "execution_count": 120,
   "metadata": {},
   "outputs": [],
   "source": [
    "def apply_mask(image_array, mask, canvas_color=None):\n",
    "    \"\"\"Force the use of a NxM mask on an NxMx3 matrix\"\"\"\n",
    "    \n",
    "    image_array_masked = image_array.copy()\n",
    "    \n",
    "    for row, rowvals in enumerate(image_array):\n",
    "        for col, _ in enumerate(rowvals):\n",
    "            \n",
    "            if mask[row, col]:\n",
    "                image_array_masked[row, col] = canvas_color\n",
    "            \n",
    "    return image_array_masked"
   ]
  },
  {
   "cell_type": "code",
   "execution_count": 156,
   "metadata": {},
   "outputs": [],
   "source": [
    "def convert_image_to_array(image_filepath, image_bg_color=Black, canvas_color=None):\n",
    "    \"\"\"Convert an image file (so far just Aseprite PNG exports) into an array\"\"\"\n",
    "    \n",
    "    image = Image.open(image_filepath)\n",
    "    image_array_raw = np.asarray(image)\n",
    "    image_array = image_array_raw.copy() # image_array_raw is immutable\n",
    "    image_height, image_width, _ = image_array.shape\n",
    "        \n",
    "    mask = np.all(image_array == image_bg_color, axis=-1)\n",
    "    image_array_masked = apply_mask(image_array, mask, canvas_color=canvas_color)\n",
    "    \n",
    "    # Identify background and exterior and columns\n",
    "    nonempty_row_indices = np.where(mask.sum(axis=1) < image_height)\n",
    "    nonempty_col_indices = np.where(mask.sum(axis=0) < image_width)\n",
    "        \n",
    "    first_row, last_row = np.min(nonempty_row_indices), np.max(nonempty_row_indices)\n",
    "    first_col, last_col = np.min(nonempty_col_indices), np.max(nonempty_col_indices)\n",
    "\n",
    "    # Remove background and exterior rows and colmumns\n",
    "    image_array_cropped = image_array_masked[first_row : last_row + 1, first_col : last_col + 1]\n",
    "    \n",
    "    return image_array_cropped"
   ]
  },
  {
   "cell_type": "code",
   "execution_count": 158,
   "metadata": {},
   "outputs": [
    {
     "data": {
      "image/png": "[encoded data removed]",
      "text/plain": [
       "<Figure size 432x288 with 1 Axes>"
      ]
     },
     "metadata": {
      "needs_background": "light"
     },
     "output_type": "display_data"
    }
   ],
   "source": [
    "canvas_color = Black\n",
    "blank_canvas = make_canvas(canvas_color, width=15, height=15)\n",
    "image_array = convert_image_to_array(\"./assets/aseprite-test-4.png\", canvas_color=canvas_color)\n",
    "canvas = add_arrays(blank_canvas, image_array, xoffset=4, yoffset=5, method=\"replace\")\n",
    "generate_image(canvas, show=True)"
   ]
  },
  {
   "cell_type": "code",
   "execution_count": 130,
   "metadata": {},
   "outputs": [
    {
     "data": {
      "image/png": "[encoded data removed]",
      "text/plain": [
       "<Figure size 432x288 with 1 Axes>"
      ]
     },
     "metadata": {
      "needs_background": "light"
     },
     "output_type": "display_data"
    }
   ],
   "source": [
    "imray = make_canvas(yellow, width=1, height=5)\n",
    "canvas = add_arrays(blank_canvas, imray, xoffset=5, yoffset=2)\n",
    "generate_image(canvas, show=True)"
   ]
  },
  {
   "cell_type": "code",
   "execution_count": null,
   "metadata": {},
   "outputs": [],
   "source": [
    "# ALL FUNCS BELOW THIS HAVE NOT BEEN DOCUMENTED / INVESTIGATED IN FEB 2023"
   ]
  },
  {
   "cell_type": "code",
   "execution_count": null,
   "metadata": {},
   "outputs": [],
   "source": [
    "def generate_image(grid, show_grid=False, show=False, save=False, outdir=None, filename=None):\n",
    "    plt.imshow(grid)\n",
    "    if show_grid:\n",
    "        plt.grid(visible=True)\n",
    "    else:\n",
    "        plt.axis(\"off\")\n",
    "    if save:\n",
    "        plt.savefig(f\"{outdir}/{filename}\")\n",
    "    if show:\n",
    "        plt.show()"
   ]
  },
  {
   "cell_type": "code",
   "execution_count": null,
   "metadata": {},
   "outputs": [],
   "source": [
    "def find_bounds(grid_dim, shape_dim, align=None):\n",
    "    \n",
    "    if align == \"center\":\n",
    "        # Left and bottom bias\n",
    "        start = (grid_dim / 2) - (shape_dim / 2)\n",
    "    if align == \"left\" or align == \"bottom\":\n",
    "        start = 0\n",
    "    if align == \"right\" or align == \"top\":\n",
    "        start = grid_dim - shape_dim\n",
    "    \n",
    "    end = start + shape_dim - 1\n",
    "    return int(start), int(end)"
   ]
  },
  {
   "cell_type": "code",
   "execution_count": null,
   "metadata": {},
   "outputs": [],
   "source": [
    "def get_grid_dimensions(grid): \n",
    "    grid_width = len(grid[0])\n",
    "    grid_height = len(grid)\n",
    "    return grid_width, grid_height"
   ]
  },
  {
   "cell_type": "code",
   "execution_count": null,
   "metadata": {},
   "outputs": [],
   "source": [
    "def generate_show_map(raw_show_map, xbounds, ybounds, style=None, strategy=None):\n",
    "    \n",
    "    show_map = {}\n",
    "    \n",
    "    xleft, xright = xbounds\n",
    "    ybottom, ytop = ybounds\n",
    "    \n",
    "    if strategy == \"distance\":\n",
    "        # Get center coordinates (e.g. circle)\n",
    "        xcenter = xright - ((xright - xleft) / 2)\n",
    "        ycenter = ytop - ((ytop - ybottom) / 2)\n",
    "    \n",
    "    for yvalue in range(ybottom, ytop+1):\n",
    "        show_map[yvalue] = {}\n",
    "        \n",
    "        if style == \"outline\":\n",
    "            left_border = None\n",
    "            right_border = None\n",
    "        \n",
    "        for xvalue in range(xleft, xright+1):\n",
    "                \n",
    "            if strategy == \"distance\":\n",
    "                # Based on distance from center, determine whether to fill pixel or not\n",
    "                xdistance = abs(xvalue - xcenter)\n",
    "                ydistance = abs(yvalue - ycenter)\n",
    "                show_value = raw_show_map[ydistance][xdistance]\n",
    "            \n",
    "            elif strategy == \"shape_array\":\n",
    "                ycoord = yvalue - ybottom\n",
    "                xcoord = xvalue - xleft\n",
    "                show_value = bool(raw_show_map[ycoord][xcoord])\n",
    "                \n",
    "            else:\n",
    "                show_value = True\n",
    "                \n",
    "            if style == \"outline\":\n",
    "                \n",
    "                if yvalue == ybottom or yvalue == ytop:\n",
    "                    show_map[yvalue][xvalue] = show_value\n",
    "                    continue\n",
    "                \n",
    "                if show_value is True:\n",
    "                    if left_border is None:\n",
    "                        left_border = xvalue\n",
    "                    else:\n",
    "                        right_border = xvalue\n",
    "                \n",
    "                show_map[yvalue][xvalue] = False\n",
    "                        \n",
    "            else:    \n",
    "                show_map[yvalue][xvalue] = show_value\n",
    "                \n",
    "        if style == \"outline\":\n",
    "            if yvalue != ybottom and yvalue != ytop:\n",
    "                show_map[yvalue][left_border] = True\n",
    "                show_map[yvalue][right_border] = True\n",
    "            \n",
    "    return show_map"
   ]
  },
  {
   "cell_type": "code",
   "execution_count": null,
   "metadata": {},
   "outputs": [],
   "source": [
    "# DEPRECATED!\n",
    "def convert_show_map(raw_show_map, style=None):\n",
    "    show_map = {}\n",
    "    \n",
    "    if style == \"outline\":\n",
    "        for yvalue, curr_show_map in raw_show_map.items():\n",
    "            print(yvalue, curr_show_values)\n",
    "            true_indices = np.where(curr_show_values == 1)[0]\n",
    "            print(true_indices)\n",
    "            keep_true = [min(true_indices), max(true_indices)]\n",
    "            new_show_values = [True if index in keep_true else False for index in range(0, len(curr_show_values))]\n",
    "            show_map[yvalue] = new_show_values\n",
    "            \n",
    "    return show_map"
   ]
  },
  {
   "cell_type": "code",
   "execution_count": null,
   "metadata": {},
   "outputs": [],
   "source": [
    "def patch_outline(raw_show_map):\n",
    "    print(\"TODO OUTLINE!\")\n",
    "    return raw_show_map"
   ]
  },
  {
   "cell_type": "code",
   "execution_count": null,
   "metadata": {},
   "outputs": [],
   "source": [
    "def make_shape(grid, style=\"fill\", shape=None, shape_array=None, shape_width=0, shape_height=0, xalign=None, yalign=None, xoffset=0, yoffset=0):\n",
    "\n",
    "    if shape_array:\n",
    "        shape_width = len(shape_array[0])\n",
    "        shape_height = len(shape_array)\n",
    "        \n",
    "    grid_width, grid_height = get_grid_dimensions(grid)\n",
    "    xleft, xright = find_bounds(grid_width, shape_width, align=xalign)\n",
    "    ybottom, ytop = find_bounds(grid_height, shape_height, align=yalign)\n",
    "    \n",
    "    xleft += xoffset\n",
    "    xright += xoffset\n",
    "    ybottom += yoffset\n",
    "    ytop += yoffset\n",
    "    \n",
    "    if shape == \"rectangle\":\n",
    "        show_map = generate_show_map({}, (xleft, xright), (ybottom, ytop), style=style)\n",
    "    \n",
    "    elif shape == \"circle\":\n",
    "        raw_show_map = {}\n",
    "        \n",
    "        # TODO x vs y radius for ovals\n",
    "        radius = shape_width / 2\n",
    "        if shape_width % 2 == 0:\n",
    "            xfactor = 0\n",
    "        else:\n",
    "            xfactor = 0.5\n",
    "            \n",
    "        if shape_height % 2 == 0:\n",
    "            yfactor = 0\n",
    "        else:\n",
    "            yfactor = 0.5\n",
    "            \n",
    "        for ycount in range(0, int(shape_height/2)+1):\n",
    "            raw_show_map[ycount] = {}\n",
    "            for xcount in range(0, int(shape_width/2)+1):\n",
    "                xedge = xcount + xfactor\n",
    "                yedge = ycount + yfactor\n",
    "                max_distance = (xedge**2 + yedge**2)**(1/2)\n",
    "                if max_distance > (radius*1.01):\n",
    "                    raw_show_map[ycount][xcount] = False\n",
    "                else:\n",
    "                    raw_show_map[ycount][xcount] = True\n",
    "        \n",
    "        show_map = generate_show_map(raw_show_map, (xleft, xright), (ybottom, ytop), style=style, strategy=\"distance\")\n",
    "    \n",
    "    elif shape is None:\n",
    "        show_map = generate_show_map(shape_array, (xleft, xright), (ybottom, ytop), style=style, strategy=\"shape_array\")\n",
    "    \n",
    "    if style == \"outline\":\n",
    "        show_map = patch_outline(show_map)\n",
    "        \n",
    "    return show_map"
   ]
  },
  {
   "cell_type": "code",
   "execution_count": null,
   "metadata": {},
   "outputs": [],
   "source": [
    "def draw(grid, show_map, color):\n",
    "    # Change color values for relevant pixel coordinates\n",
    "    for yvalue, yvalue_show_map in show_map.items():\n",
    "        for xvalue, show_value in yvalue_show_map.items():\n",
    "            \n",
    "            if show_value is False:\n",
    "                continue\n",
    "                  \n",
    "            try:\n",
    "                grid[yvalue][xvalue] = color\n",
    "            except IndexError:\n",
    "                continue\n",
    "            \n",
    "    return grid"
   ]
  },
  {
   "cell_type": "code",
   "execution_count": null,
   "metadata": {},
   "outputs": [],
   "source": [
    "def calculate_euclidian_distance(coords1, coords2):\n",
    "    x1, y1 = coords1\n",
    "    x2, y2 = coords2\n",
    "    return ((x2-x1)**2 + (y2-y1)**2)**(1/2)"
   ]
  },
  {
   "cell_type": "code",
   "execution_count": null,
   "metadata": {},
   "outputs": [],
   "source": [
    "def calculate_step_distance(coords1, coords2):\n",
    "    x1, y1 = coords1\n",
    "    x2, y2 = coords2\n",
    "    xsteps = abs(x2-x1)\n",
    "    ysteps = abs(y2-y1)\n",
    "    return xsteps + ysteps"
   ]
  },
  {
   "cell_type": "code",
   "execution_count": null,
   "metadata": {},
   "outputs": [],
   "source": [
    "def get_start_coords(grid, xfinal=0, yfinal=0, start_coords=None, min_steps=0, max_steps=0):\n",
    "\n",
    "    grid_width, grid_height = get_grid_dimensions(grid)\n",
    "    \n",
    "    initial_distance = max_steps + 1 # Just to make sure we enter the loop\n",
    "    if start_coords is None:\n",
    "        while initial_distance > max_steps or initial_distance < min_steps:\n",
    "            xstart = random.randint(0, grid_width)\n",
    "            ystart = random.randint(0, grid_height)\n",
    "            initial_distance = calculate_step_distance((xstart, ystart), (xfinal, yfinal))\n",
    "    else:\n",
    "        xstart, ystart = start_coords\n",
    "        initial_distance = calculate_step_distance((xstart, ystart), (xfinal, yfinal))\n",
    "        if initial_distance > max_steps or initial_distance < min_steps:\n",
    "            raise ValueError(\"you picked bad start coords dummy\")\n",
    "    \n",
    "    return xstart, ystart"
   ]
  },
  {
   "cell_type": "code",
   "execution_count": null,
   "metadata": {},
   "outputs": [],
   "source": [
    "def calculate_xy_probs(xdelta, ydelta):\n",
    "    if xdelta == 0:\n",
    "        return 0, 1\n",
    "    if ydelta == 0:\n",
    "        return 1, 0\n",
    "    \n",
    "    delta_ratio = (abs(xdelta)+1) / (abs(ydelta)+1)\n",
    "    # px + py = 1\n",
    "    # delta_ratio(py) + py = 1\n",
    "    py = 1 / (delta_ratio + 1)\n",
    "    px = 1 - py\n",
    "    return px, py"
   ]
  },
  {
   "cell_type": "code",
   "execution_count": null,
   "metadata": {},
   "outputs": [],
   "source": [
    "def take_step(curr, delta):\n",
    "    if delta > 0:\n",
    "        return curr - 1, delta - 1\n",
    "    elif delta < 0:\n",
    "        return curr + 1, delta + 1\n",
    "    else:\n",
    "        raise ValueError(\"you fucked up!\")"
   ]
  },
  {
   "cell_type": "code",
   "execution_count": null,
   "metadata": {},
   "outputs": [],
   "source": [
    "def generate_pixel_sequence(grid, xfinal=0, yfinal=0, start_coords=None, min_steps=0, max_steps=0):\n",
    "    \n",
    "    coords_sequence = []\n",
    "    xstart, ystart = get_start_coords(grid, xfinal=xfinal, yfinal=yfinal, start_coords=start_coords, min_steps=min_steps, max_steps=max_steps)\n",
    "    \n",
    "    xcurr, ycurr = xstart, ystart\n",
    "    xdelta = xcurr - xfinal\n",
    "    ydelta = ycurr - yfinal\n",
    "    step_count = 0\n",
    "    while (xcurr, ycurr) != (xfinal, yfinal):\n",
    "        \n",
    "        # Decide which direction to move in\n",
    "        xprob, yprob = calculate_xy_probs(xdelta, ydelta)\n",
    "        \n",
    "        if random.random() < xprob:\n",
    "            xcurr, xdelta = take_step(xcurr, xdelta)\n",
    "        else:\n",
    "            ycurr, ydelta = take_step(ycurr, ydelta)\n",
    "            \n",
    "        step_count += 1\n",
    "        \n",
    "        coords_sequence.append((xcurr, ycurr))\n",
    "        \n",
    "    return coords_sequence"
   ]
  },
  {
   "cell_type": "code",
   "execution_count": null,
   "metadata": {},
   "outputs": [],
   "source": [
    "# TODO: currenly deprecated, will be relevant later when I need to separate one image into multiple image arrays\n",
    "def find_boundaries(image_filepath, bg_color=None):\n",
    "    \"\"\"Helpful functionality\"\"\"\n",
    "    \n",
    "    image = Image.open(image_filepath)\n",
    "    image_array = np.asarray(image)\n",
    "    \n",
    "    # TODO rename \"boundaries\"\n",
    "    boundaries = [] # Each element in this list is a (Xmin, Xmax) tuple for a given Y value\n",
    "    empty_rows = []\n",
    "    ybottom, ytop, xmin, xmax = None, None, None, None\n",
    "    for ycoord, color_values in enumerate(image_array):\n",
    "        \n",
    "        xleft, xright = None, None\n",
    "        \n",
    "        for xcoord, color_value in enumerate(color_values):\n",
    "            \n",
    "            if color_value != bg_color:\n",
    "                \n",
    "                # Within this row\n",
    "                if xleft is None:\n",
    "                    xleft = xcoord \n",
    "                else:\n",
    "                    xright = xcoord\n",
    "                    \n",
    "                # Across entire image\n",
    "                if xmin is None:\n",
    "                    xmin = xcoord\n",
    "                elif xcoord < xmin:\n",
    "                    xmin = xleft\n",
    "                \n",
    "                if xmax is None:\n",
    "                    xmax = xcoord\n",
    "                elif xcoord > xmax:\n",
    "                    xmax = xright\n",
    "    \n",
    "        # If non-empty row\n",
    "        if xleft:\n",
    "            \n",
    "            if not xright: # If a single-pixel row\n",
    "                xright = xleft # To avoid TypeError below\n",
    "                \n",
    "            if ybottom is None:\n",
    "                ybottom = ycoord\n",
    "            else:\n",
    "                ytop = ycoord\n",
    "                \n",
    "                # Add \"saved up\" empty rows if it turns out we hadn't reached the image boundary\n",
    "                if len(empty_rows):\n",
    "                    boundaries.extend(empty_rows)\n",
    "                \n",
    "            boundaries.append( (xleft, xright) )\n",
    "        \n",
    "        # Add empty rows, will only be appended to boundaries if we haven't reached image boundary\n",
    "        elif ybottom:\n",
    "            empty_rows.append( (xleft, xright) )\n",
    "            \n",
    "    return"
   ]
  },
  {
   "cell_type": "code",
   "execution_count": null,
   "metadata": {},
   "outputs": [],
   "source": [
    "# LOH\n",
    "image_filepath = \"./assets/aseprite-test-3.png\"\n",
    "image_array = convert_image_to_array(image_filepath, bg_color=0)"
   ]
  },
  {
   "cell_type": "code",
   "execution_count": null,
   "metadata": {},
   "outputs": [],
   "source": [
    "width = 20\n",
    "height = 20\n",
    "grid = make_canvas(black, width=width, height=height)\n",
    "imray = make_canvas(green, width=width-10, height=height-10)\n",
    "#show_map = make_shape(grid, style=\"fill\", shape_array=image_array, xalign=\"center\", yalign=\"center\")\n",
    "#grid = draw(grid, show_map, sky_blue)\n",
    "#generate_image(grid, show=True, show_grid=False)"
   ]
  },
  {
   "cell_type": "code",
   "execution_count": null,
   "metadata": {},
   "outputs": [],
   "source": [
    "grid"
   ]
  },
  {
   "cell_type": "code",
   "execution_count": null,
   "metadata": {},
   "outputs": [],
   "source": []
  },
  {
   "cell_type": "code",
   "execution_count": null,
   "metadata": {},
   "outputs": [],
   "source": [
    "image_filepath = \"./assets/full-heart.png\"\n",
    "convert_rgb_to_mono(image_filepath, bg_color=0)\n",
    "sprite_array = convert_sprite_to_array(image_filepath, bg_color=0, scale=1)"
   ]
  },
  {
   "cell_type": "code",
   "execution_count": null,
   "metadata": {
    "scrolled": false
   },
   "outputs": [],
   "source": [
    "# Sun comes up, sun comes down!\n",
    "width = 1080\n",
    "height = 720\n",
    "sun_radius = 199\n",
    "sun_max_height = (int(height/2)) - (round(sun_radius/2)) - 50\n",
    "sun_height_interval = 20\n",
    "yoffset_vals = np.arange(round(-sun_radius/2), sun_max_height, sun_height_interval)\n",
    "\n",
    "for yoffset in list(yoffset_vals) + list(yoffset_vals[::-1]):\n",
    "    grid = make_canvas(black, width=width, height=height)\n",
    "    show_map = make_shape(grid, style=\"fill\", shape=\"rectangle\", shape_width=1080, shape_height=360, xalign=\"center\", yalign=\"top\")\n",
    "    grid = draw(grid, show_map, sky_blue)\n",
    "    show_map = make_shape(grid, style=\"fill\", shape=\"circle\", shape_width=sun_radius, shape_height=sun_radius, xalign=\"center\", yalign=\"center\", yoffset=yoffset)\n",
    "    grid = draw(grid, show_map, yellow)\n",
    "    show_map = make_shape(grid, style=\"fill\", shape=\"rectangle\", shape_width=1080, shape_height=360, xalign=\"center\", yalign=\"bottom\")\n",
    "    grid = draw(grid, show_map, land_green)\n",
    "    generate_image(grid, show=True, show_grid=False)\n",
    "\n"
   ]
  },
  {
   "cell_type": "code",
   "execution_count": null,
   "metadata": {},
   "outputs": [],
   "source": [
    "grid = make_canvas(black, width=100, height=100)\n",
    "show_map = make_shape(grid, style=\"fill\", shape=\"rectangle\", shape_width=1080, shape_height=360, xalign=\"center\", yalign=\"top\")\n",
    "#grid = draw(grid, show_map, green)\n",
    "generate_image(grid, show=True, show_grid=False)\n",
    "#len(np.asarray(image)[14])\n"
   ]
  },
  {
   "cell_type": "code",
   "execution_count": null,
   "metadata": {},
   "outputs": [],
   "source": [
    "# Simple square\n",
    "grid = make_canvas(black, width=50, height=50)\n",
    "show_map = make_shape(grid, style=\"outline\", shape=\"rectangle\", shape_width=31, shape_height=31, xalign=\"center\", yalign=\"center\")\n",
    "grid = draw(grid, show_map, white)\n",
    "generate_image(grid, show=True, show_grid=False)"
   ]
  },
  {
   "cell_type": "code",
   "execution_count": null,
   "metadata": {
    "scrolled": false
   },
   "outputs": [],
   "source": [
    "# Circle with square inside!\n",
    "grid = make_canvas(black, width=100, height=100)\n",
    "show_map = make_shape(grid, style=\"outline\", shape=\"circle\", shape_width=75, shape_height=75, xalign=\"center\", yalign=\"center\", xoffset=0, yoffset=0)\n",
    "grid = draw(grid, show_map, yellow)\n",
    "show_map = make_shape(grid, shape=\"rectangle\", shape_width=10, shape_height=10, xalign=\"center\", yalign=\"center\", xoffset=0, yoffset=0)\n",
    "grid = draw(grid, show_map, white)\n",
    "generate_image(grid, show=True)"
   ]
  },
  {
   "cell_type": "code",
   "execution_count": null,
   "metadata": {},
   "outputs": [],
   "source": [
    "# Pixels of square coming together!\n",
    "min_steps = 20\n",
    "max_steps = 20\n",
    "canvas_width = 20\n",
    "canvas_height = 20\n",
    "\n",
    "grid = make_canvas(black, width=canvas_width, height=canvas_height)\n",
    "seq1 = generate_pixel_sequence(grid, xfinal=9, yfinal=9, min_steps=min_steps, max_steps=max_steps)\n",
    "seq2 = generate_pixel_sequence(grid, xfinal=10, yfinal=9, min_steps=min_steps, max_steps=max_steps)\n",
    "seq3 = generate_pixel_sequence(grid, xfinal=9, yfinal=10, min_steps=min_steps, max_steps=max_steps)\n",
    "seq4 = generate_pixel_sequence(grid, xfinal=10, yfinal=10, min_steps=min_steps, max_steps=max_steps)\n",
    "\n",
    "for index in range(0, len(seq1)):\n",
    "    \n",
    "    grid = make_canvas(black, width=canvas_width, height=canvas_height)\n",
    "    \n",
    "    for seq in [seq1, seq2, seq3, seq4]:\n",
    "        xoffset, yoffset = seq[index]\n",
    "        show_map = make_shape(grid, white, shape=\"rectangle\", shape_width=1, shape_height=1, xalign=\"left\", yalign=\"bottom\", xoffset=xoffset, yoffset=yoffset)\n",
    "        grid = draw(grid, show_map, white)\n",
    "    generate_image(grid, show=False, save=True, outdir=\"square-assembly\", filename=f\"{index}.png\")\n"
   ]
  }
 ],
 "metadata": {
  "anaconda-cloud": {},
  "kernelspec": {
   "display_name": "milo",
   "language": "python",
   "name": "milo"
  },
  "language_info": {
   "codemirror_mode": {
    "name": "ipython",
    "version": 3
   },
   "file_extension": ".py",
   "mimetype": "text/x-python",
   "name": "python",
   "nbconvert_exporter": "python",
   "pygments_lexer": "ipython3",
   "version": "3.9.12"
  }
 },
 "nbformat": 4,
 "nbformat_minor": 4
}
