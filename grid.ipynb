{
 "cells": [
  {
   "cell_type": "code",
   "execution_count": 1,
   "metadata": {},
   "outputs": [],
   "source": [
    "import matplotlib.pyplot as plt\n",
    "import numpy as np\n",
    "import random\n",
    "from PIL import Image"
   ]
  },
  {
   "cell_type": "code",
   "execution_count": 2,
   "metadata": {},
   "outputs": [],
   "source": [
    "black = (0, 0, 0)\n",
    "white = (255, 255, 255)\n",
    "yellow = (242, 230, 61)\n",
    "blue = (0, 0, 255)\n",
    "green = (0, 255, 0)\n",
    "sky_blue = (159, 197, 232)\n",
    "yellow = (255, 214, 0)\n",
    "land_green = (56, 118, 29)"
   ]
  },
  {
   "cell_type": "code",
   "execution_count": 3,
   "metadata": {},
   "outputs": [],
   "source": [
    "def make_canvas(color, width=0, height=0):\n",
    "    pixels = [color] * (width * height)\n",
    "    grid = np.empty(len(pixels), dtype='object')\n",
    "    grid[:] = pixels\n",
    "    grid = grid.reshape(height, width).tolist()\n",
    "    return grid"
   ]
  },
  {
   "cell_type": "code",
   "execution_count": 4,
   "metadata": {},
   "outputs": [],
   "source": [
    "def generate_image(grid, show_grid=False, show=False, save=False, outdir=None, filename=None):\n",
    "    plt.imshow(grid)\n",
    "    plt.gca().invert_yaxis()\n",
    "    if show_grid:\n",
    "        plt.grid(visible=True)\n",
    "    else:\n",
    "        plt.axis(\"off\")\n",
    "    if save:\n",
    "        plt.savefig(f\"{outdir}/{filename}\")\n",
    "    if show:\n",
    "        plt.show()"
   ]
  },
  {
   "cell_type": "code",
   "execution_count": 5,
   "metadata": {},
   "outputs": [],
   "source": [
    "def find_bounds(grid_dim, shape_dim, align=None):\n",
    "    \n",
    "    if align == \"center\":\n",
    "        # Left and bottom bias\n",
    "        start = (grid_dim / 2) - (shape_dim / 2)\n",
    "    if align == \"left\" or align == \"bottom\":\n",
    "        start = 0\n",
    "    if align == \"right\" or align == \"top\":\n",
    "        start = grid_dim - shape_dim\n",
    "    \n",
    "    end = start + shape_dim - 1\n",
    "    return int(start), int(end)"
   ]
  },
  {
   "cell_type": "code",
   "execution_count": 6,
   "metadata": {},
   "outputs": [],
   "source": [
    "def get_grid_dimensions(grid): \n",
    "    grid_width = len(grid[0])\n",
    "    grid_height = len(grid)\n",
    "    return grid_width, grid_height"
   ]
  },
  {
   "cell_type": "code",
   "execution_count": 7,
   "metadata": {},
   "outputs": [],
   "source": [
    "def generate_show_map(raw_show_map, xbounds, ybounds, style=None, strategy=None):\n",
    "    \n",
    "    show_map = {}\n",
    "    \n",
    "    xleft, xright = xbounds\n",
    "    ybottom, ytop = ybounds\n",
    "    \n",
    "    if strategy == \"distance\":\n",
    "        # Get center coordinates (e.g. circle)\n",
    "        xcenter = xright - ((xright - xleft) / 2)\n",
    "        ycenter = ytop - ((ytop - ybottom) / 2)\n",
    "    \n",
    "    for yvalue in range(ybottom, ytop+1):\n",
    "        show_map[yvalue] = {}\n",
    "        \n",
    "        if style == \"outline\":\n",
    "            left_border = None\n",
    "            right_border = None\n",
    "        \n",
    "        for xvalue in range(xleft, xright+1):\n",
    "                \n",
    "            if strategy == \"distance\":\n",
    "                # Based on distance from center, determine whether to fill pixel or not\n",
    "                xdistance = abs(xvalue - xcenter)\n",
    "                ydistance = abs(yvalue - ycenter)\n",
    "                show_value = raw_show_map[ydistance][xdistance]\n",
    "            \n",
    "            elif strategy == \"shape_array\":\n",
    "                ycoord = yvalue - ybottom\n",
    "                xcoord = xvalue - xleft\n",
    "                show_value = bool(raw_show_map[ycoord][xcoord])\n",
    "                \n",
    "            else:\n",
    "                show_value = True\n",
    "                \n",
    "            if style == \"outline\":\n",
    "                \n",
    "                if yvalue == ybottom or yvalue == ytop:\n",
    "                    show_map[yvalue][xvalue] = show_value\n",
    "                    continue\n",
    "                \n",
    "                if show_value is True:\n",
    "                    if left_border is None:\n",
    "                        left_border = xvalue\n",
    "                    else:\n",
    "                        right_border = xvalue\n",
    "                \n",
    "                show_map[yvalue][xvalue] = False\n",
    "                        \n",
    "            else:    \n",
    "                show_map[yvalue][xvalue] = show_value\n",
    "                \n",
    "        if style == \"outline\":\n",
    "            if yvalue != ybottom and yvalue != ytop:\n",
    "                show_map[yvalue][left_border] = True\n",
    "                show_map[yvalue][right_border] = True\n",
    "            \n",
    "    return show_map"
   ]
  },
  {
   "cell_type": "code",
   "execution_count": 8,
   "metadata": {},
   "outputs": [],
   "source": [
    "# DEPRECATED!\n",
    "def convert_show_map(raw_show_map, style=None):\n",
    "    show_map = {}\n",
    "    \n",
    "    if style == \"outline\":\n",
    "        for yvalue, curr_show_map in raw_show_map.items():\n",
    "            print(yvalue, curr_show_values)\n",
    "            true_indices = np.where(curr_show_values == 1)[0]\n",
    "            print(true_indices)\n",
    "            keep_true = [min(true_indices), max(true_indices)]\n",
    "            new_show_values = [True if index in keep_true else False for index in range(0, len(curr_show_values))]\n",
    "            show_map[yvalue] = new_show_values\n",
    "            \n",
    "    return show_map"
   ]
  },
  {
   "cell_type": "code",
   "execution_count": 9,
   "metadata": {},
   "outputs": [],
   "source": [
    "def patch_outline(raw_show_map):\n",
    "    print(\"TODO OUTLINE!\")\n",
    "    return raw_show_map"
   ]
  },
  {
   "cell_type": "code",
   "execution_count": 10,
   "metadata": {},
   "outputs": [],
   "source": [
    "def make_shape(grid, style=\"fill\", shape=None, shape_array=None, shape_width=0, shape_height=0, xalign=None, yalign=None, xoffset=0, yoffset=0):\n",
    "\n",
    "    if shape is None:\n",
    "        shape_width = len(shape_array[0])\n",
    "        shape_height = len(shape_array)\n",
    "        \n",
    "    grid_width, grid_height = get_grid_dimensions(grid)\n",
    "    xleft, xright = find_bounds(grid_width, shape_width, align=xalign)\n",
    "    ybottom, ytop = find_bounds(grid_height, shape_height, align=yalign)\n",
    "    \n",
    "    xleft += xoffset\n",
    "    xright += xoffset\n",
    "    ybottom += yoffset\n",
    "    ytop += yoffset\n",
    "    \n",
    "    if shape == \"rectangle\":\n",
    "        show_map = generate_show_map({}, (xleft, xright), (ybottom, ytop), style=style)\n",
    "    \n",
    "    elif shape == \"circle\":\n",
    "        raw_show_map = {}\n",
    "        \n",
    "        # TODO x vs y radius for ovals\n",
    "        radius = shape_width / 2\n",
    "        if shape_width % 2 == 0:\n",
    "            xfactor = 0\n",
    "        else:\n",
    "            xfactor = 0.5\n",
    "            \n",
    "        if shape_height % 2 == 0:\n",
    "            yfactor = 0\n",
    "        else:\n",
    "            yfactor = 0.5\n",
    "            \n",
    "        for ycount in range(0, int(shape_height/2)+1):\n",
    "            raw_show_map[ycount] = {}\n",
    "            for xcount in range(0, int(shape_width/2)+1):\n",
    "                xedge = xcount + xfactor\n",
    "                yedge = ycount + yfactor\n",
    "                max_distance = (xedge**2 + yedge**2)**(1/2)\n",
    "                if max_distance > (radius*1.01):\n",
    "                    raw_show_map[ycount][xcount] = False\n",
    "                else:\n",
    "                    raw_show_map[ycount][xcount] = True\n",
    "        \n",
    "        show_map = generate_show_map(raw_show_map, (xleft, xright), (ybottom, ytop), style=style, strategy=\"distance\")\n",
    "    \n",
    "    elif shape is None:\n",
    "        show_map = generate_show_map(shape_array, (xleft, xright), (ybottom, ytop), style=style, strategy=\"shape_array\")\n",
    "    \n",
    "    if style == \"outline\":\n",
    "        show_map = patch_outline(show_map)\n",
    "        \n",
    "    return show_map"
   ]
  },
  {
   "cell_type": "code",
   "execution_count": 11,
   "metadata": {},
   "outputs": [],
   "source": [
    "def draw(grid, show_map, color):\n",
    "    # Change color values for relevant pixel coordinates\n",
    "    for yvalue, yvalue_show_map in show_map.items():\n",
    "        for xvalue, show_value in yvalue_show_map.items():\n",
    "            \n",
    "            if show_value is False:\n",
    "                continue\n",
    "                  \n",
    "            try:\n",
    "                grid[yvalue][xvalue] = color\n",
    "            except IndexError:\n",
    "                continue\n",
    "            \n",
    "    return grid"
   ]
  },
  {
   "cell_type": "code",
   "execution_count": 12,
   "metadata": {},
   "outputs": [],
   "source": [
    "def calculate_euclidian_distance(coords1, coords2):\n",
    "    x1, y1 = coords1\n",
    "    x2, y2 = coords2\n",
    "    return ((x2-x1)**2 + (y2-y1)**2)**(1/2)"
   ]
  },
  {
   "cell_type": "code",
   "execution_count": 13,
   "metadata": {},
   "outputs": [],
   "source": [
    "def calculate_step_distance(coords1, coords2):\n",
    "    x1, y1 = coords1\n",
    "    x2, y2 = coords2\n",
    "    xsteps = abs(x2-x1)\n",
    "    ysteps = abs(y2-y1)\n",
    "    return xsteps + ysteps"
   ]
  },
  {
   "cell_type": "code",
   "execution_count": 14,
   "metadata": {},
   "outputs": [],
   "source": [
    "def get_start_coords(grid, xfinal=0, yfinal=0, start_coords=None, min_steps=0, max_steps=0):\n",
    "\n",
    "    grid_width, grid_height = get_grid_dimensions(grid)\n",
    "    \n",
    "    initial_distance = max_steps + 1 # Just to make sure we enter the loop\n",
    "    if start_coords is None:\n",
    "        while initial_distance > max_steps or initial_distance < min_steps:\n",
    "            xstart = random.randint(0, grid_width)\n",
    "            ystart = random.randint(0, grid_height)\n",
    "            initial_distance = calculate_step_distance((xstart, ystart), (xfinal, yfinal))\n",
    "    else:\n",
    "        xstart, ystart = start_coords\n",
    "        initial_distance = calculate_step_distance((xstart, ystart), (xfinal, yfinal))\n",
    "        if initial_distance > max_steps or initial_distance < min_steps:\n",
    "            raise ValueError(\"you picked bad start coords dummy\")\n",
    "    \n",
    "    return xstart, ystart"
   ]
  },
  {
   "cell_type": "code",
   "execution_count": 15,
   "metadata": {},
   "outputs": [],
   "source": [
    "def calculate_xy_probs(xdelta, ydelta):\n",
    "    if xdelta == 0:\n",
    "        return 0, 1\n",
    "    if ydelta == 0:\n",
    "        return 1, 0\n",
    "    \n",
    "    delta_ratio = (abs(xdelta)+1) / (abs(ydelta)+1)\n",
    "    # px + py = 1\n",
    "    # delta_ratio(py) + py = 1\n",
    "    py = 1 / (delta_ratio + 1)\n",
    "    px = 1 - py\n",
    "    return px, py"
   ]
  },
  {
   "cell_type": "code",
   "execution_count": 16,
   "metadata": {},
   "outputs": [],
   "source": [
    "def take_step(curr, delta):\n",
    "    if delta > 0:\n",
    "        return curr - 1, delta - 1\n",
    "    elif delta < 0:\n",
    "        return curr + 1, delta + 1\n",
    "    else:\n",
    "        raise ValueError(\"you fucked up!\")"
   ]
  },
  {
   "cell_type": "code",
   "execution_count": 17,
   "metadata": {},
   "outputs": [],
   "source": [
    "def generate_pixel_sequence(grid, xfinal=0, yfinal=0, start_coords=None, min_steps=0, max_steps=0):\n",
    "    \n",
    "    coords_sequence = []\n",
    "    xstart, ystart = get_start_coords(grid, xfinal=xfinal, yfinal=yfinal, start_coords=start_coords, min_steps=min_steps, max_steps=max_steps)\n",
    "    \n",
    "    xcurr, ycurr = xstart, ystart\n",
    "    xdelta = xcurr - xfinal\n",
    "    ydelta = ycurr - yfinal\n",
    "    step_count = 0\n",
    "    while (xcurr, ycurr) != (xfinal, yfinal):\n",
    "        \n",
    "        # Decide which direction to move in\n",
    "        xprob, yprob = calculate_xy_probs(xdelta, ydelta)\n",
    "        \n",
    "        if random.random() < xprob:\n",
    "            xcurr, xdelta = take_step(xcurr, xdelta)\n",
    "        else:\n",
    "            ycurr, ydelta = take_step(ycurr, ydelta)\n",
    "            \n",
    "        step_count += 1\n",
    "        \n",
    "        coords_sequence.append((xcurr, ycurr))\n",
    "        \n",
    "    return coords_sequence"
   ]
  },
  {
   "cell_type": "code",
   "execution_count": 78,
   "metadata": {},
   "outputs": [],
   "source": [
    "def convert_sprite_to_array(image_filepath, bg_color=None, scale=None, method=None):\n",
    "    \"\"\"Convert an image file (so far just Aseprite PNG exports) into a show_map array\n",
    "    \n",
    "    TODO: implemenet exact method, scaling functionality\"\"\"\n",
    "    \n",
    "    image = Image.open(image_filepath)\n",
    "    image_array = np.asarray(image)\n",
    "    \n",
    "    # TODO rename \"boundaries\"\n",
    "    boundaries = [] # Each element is this list is a (Xmin, Xmax) tuple for a given Y value\n",
    "    empty_rows = []\n",
    "    ybottom, ytop, xmin, xmax = None, None, None, None\n",
    "    for ycoord, color_values in enumerate(image_array):\n",
    "        \n",
    "        xleft, xright = None, None\n",
    "        \n",
    "        for xcoord, color_value in enumerate(color_values):\n",
    "            \n",
    "            if color_value != bg_color:\n",
    "                \n",
    "                # Within this row\n",
    "                if xleft is None:\n",
    "                    xleft = xcoord \n",
    "                else:\n",
    "                    xright = xcoord\n",
    "                    \n",
    "                # Across entire image\n",
    "                if xmin is None:\n",
    "                    xmin = xcoord\n",
    "                elif xcoord < xmin:\n",
    "                    xmin = xleft\n",
    "                \n",
    "                if xmax is None:\n",
    "                    xmax = xcoord\n",
    "                elif xcoord > xmax:\n",
    "                    xmax = xright\n",
    "    \n",
    "        # If non-empty row\n",
    "        if xleft:\n",
    "            \n",
    "            if not xright: # If a single-pixel row\n",
    "                xright = xleft # To avoid TypeError below\n",
    "                \n",
    "            if ybottom is None:\n",
    "                ybottom = ycoord\n",
    "            else:\n",
    "                ytop = ycoord\n",
    "                \n",
    "                # Add \"saved up\" empty rows if it turns out we hadn't reached the image boundary\n",
    "                if len(empty_rows):\n",
    "                    boundaries.extend(empty_rows)\n",
    "                \n",
    "            boundaries.append( (xleft, xright) )\n",
    "        \n",
    "        # Add empty rows, will only be appended to boundaries if we haven't reached image boundary\n",
    "        elif ybottom:\n",
    "            empty_rows.append( (xleft, xright) )\n",
    "                                     \n",
    "    # Now iterate over boundaries to generate a show_map\n",
    "    image_show_map = np.zeros((ytop - ybottom + 1, xmax - xmin + 1), dtype=int)\n",
    "    \n",
    "    for ycoord, (xrowmin, xrowmax) in enumerate(boundaries):\n",
    "        \n",
    "        # TO COMMENT\n",
    "        xleft, xright = xrowmin - xmin, xrowmax - xmin  \n",
    "        \n",
    "        if not xrowmin: # Empty row\n",
    "            continue\n",
    "            \n",
    "        for xcoord in range(0, (xmax - xmin + 1)):\n",
    "                        \n",
    "            if xcoord < xleft or xcoord > xright:\n",
    "                continue\n",
    "                \n",
    "            if method == \"fill\":\n",
    "                image_show_map[ycoord][xcoord] = True\n",
    "\n",
    "            elif method == \"outline\":\n",
    "                if ycoord == 0 or ycoord == len(image_show_map) - 1:\n",
    "                    image_show_map[ycoord][xcoord] = True\n",
    "                elif xcoord == xleft or xcoord == xright:\n",
    "                    image_show_map[ycoord][xcoord] = True\n",
    "\n",
    "    return(image_show_map)"
   ]
  },
  {
   "cell_type": "code",
   "execution_count": 79,
   "metadata": {},
   "outputs": [],
   "source": [
    "def convert_rgb_to_mono(image_filepath, bg_color=None):\n",
    "    \"\"\"Convert an RGB image file to a an image where each pixel has a single color value\"\"\"\n",
    "    \n",
    "    image = Image.open(image_filepath)\n",
    "    image_array = np.asarray(image)\n",
    "    \n",
    "    # TODO\n",
    "    \n",
    "    return"
   ]
  },
  {
   "cell_type": "code",
   "execution_count": 105,
   "metadata": {},
   "outputs": [],
   "source": [
    "# LOH\n",
    "# I think I'm going about this the wrong way.  convert_sprite_to_array should be convert_image_to_array and should\n",
    "# only have one method, exact, which can then be filled, turned into an outline, etc\n",
    "image_filepath = \"./assets/aseprite-test-2.png\"\n",
    "sprite_array = convert_sprite_to_array(image_filepath, bg_color=0, method=\"outline\", scale=1)"
   ]
  },
  {
   "cell_type": "code",
   "execution_count": 104,
   "metadata": {},
   "outputs": [
    {
     "data": {
      "image/png": "[encoded data removed]",
      "text/plain": [
       "<Figure size 432x288 with 1 Axes>"
      ]
     },
     "metadata": {
      "needs_background": "light"
     },
     "output_type": "display_data"
    }
   ],
   "source": [
    "width = 108\n",
    "height = 72\n",
    "grid = make_canvas(black, width=width, height=height)\n",
    "show_map = make_shape(grid, style=\"fill\", shape_array=sprite_array, xalign=\"center\", yalign=\"center\")\n",
    "grid = draw(grid, show_map, sky_blue)\n",
    "generate_image(grid, show=True, show_grid=False)"
   ]
  },
  {
   "cell_type": "code",
   "execution_count": null,
   "metadata": {},
   "outputs": [],
   "source": [
    "print(sprite_array)"
   ]
  },
  {
   "cell_type": "code",
   "execution_count": null,
   "metadata": {},
   "outputs": [],
   "source": [
    "image_filepath = \"./assets/full-heart.png\"\n",
    "convert_rgb_to_mono(image_filepath, bg_color=0)\n",
    "sprite_array = convert_sprite_to_array(image_filepath, bg_color=0, scale=1)"
   ]
  },
  {
   "cell_type": "code",
   "execution_count": null,
   "metadata": {
    "scrolled": false
   },
   "outputs": [],
   "source": [
    "# Sun comes up, sun comes down!\n",
    "width = 1080\n",
    "height = 720\n",
    "sun_radius = 199\n",
    "sun_max_height = (int(height/2)) - (round(sun_radius/2)) - 50\n",
    "sun_height_interval = 20\n",
    "yoffset_vals = np.arange(round(-sun_radius/2), sun_max_height, sun_height_interval)\n",
    "\n",
    "for yoffset in list(yoffset_vals) + list(yoffset_vals[::-1]):\n",
    "    grid = make_canvas(black, width=width, height=height)\n",
    "    show_map = make_shape(grid, style=\"fill\", shape=\"rectangle\", shape_width=1080, shape_height=360, xalign=\"center\", yalign=\"top\")\n",
    "    grid = draw(grid, show_map, sky_blue)\n",
    "    show_map = make_shape(grid, style=\"fill\", shape=\"circle\", shape_width=sun_radius, shape_height=sun_radius, xalign=\"center\", yalign=\"center\", yoffset=yoffset)\n",
    "    grid = draw(grid, show_map, yellow)\n",
    "    show_map = make_shape(grid, style=\"fill\", shape=\"rectangle\", shape_width=1080, shape_height=360, xalign=\"center\", yalign=\"bottom\")\n",
    "    grid = draw(grid, show_map, land_green)\n",
    "    generate_image(grid, show=True, show_grid=False)\n",
    "\n"
   ]
  },
  {
   "cell_type": "code",
   "execution_count": null,
   "metadata": {},
   "outputs": [],
   "source": [
    "grid = make_canvas(black, width=100, height=100)\n",
    "show_map = make_shape(grid, style=\"fill\", shape=\"rectangle\", shape_width=1080, shape_height=360, xalign=\"center\", yalign=\"top\")\n",
    "#grid = draw(grid, show_map, green)\n",
    "generate_image(grid, show=True, show_grid=False)\n",
    "#len(np.asarray(image)[14])\n"
   ]
  },
  {
   "cell_type": "code",
   "execution_count": null,
   "metadata": {},
   "outputs": [],
   "source": [
    "# Simple square\n",
    "grid = make_canvas(black, width=50, height=50)\n",
    "show_map = make_shape(grid, style=\"outline\", shape=\"rectangle\", shape_width=31, shape_height=31, xalign=\"center\", yalign=\"center\")\n",
    "grid = draw(grid, show_map, white)\n",
    "generate_image(grid, show=True, show_grid=False)"
   ]
  },
  {
   "cell_type": "code",
   "execution_count": null,
   "metadata": {
    "scrolled": false
   },
   "outputs": [],
   "source": [
    "# Circle with square inside!\n",
    "grid = make_canvas(black, width=100, height=100)\n",
    "show_map = make_shape(grid, style=\"outline\", shape=\"circle\", shape_width=75, shape_height=75, xalign=\"center\", yalign=\"center\", xoffset=0, yoffset=0)\n",
    "grid = draw(grid, show_map, yellow)\n",
    "show_map = make_shape(grid, shape=\"rectangle\", shape_width=10, shape_height=10, xalign=\"center\", yalign=\"center\", xoffset=0, yoffset=0)\n",
    "grid = draw(grid, show_map, white)\n",
    "generate_image(grid, show=True)"
   ]
  },
  {
   "cell_type": "code",
   "execution_count": null,
   "metadata": {},
   "outputs": [],
   "source": [
    "# Pixels of square coming together!\n",
    "min_steps = 20\n",
    "max_steps = 20\n",
    "canvas_width = 20\n",
    "canvas_height = 20\n",
    "\n",
    "grid = make_canvas(black, width=canvas_width, height=canvas_height)\n",
    "seq1 = generate_pixel_sequence(grid, xfinal=9, yfinal=9, min_steps=min_steps, max_steps=max_steps)\n",
    "seq2 = generate_pixel_sequence(grid, xfinal=10, yfinal=9, min_steps=min_steps, max_steps=max_steps)\n",
    "seq3 = generate_pixel_sequence(grid, xfinal=9, yfinal=10, min_steps=min_steps, max_steps=max_steps)\n",
    "seq4 = generate_pixel_sequence(grid, xfinal=10, yfinal=10, min_steps=min_steps, max_steps=max_steps)\n",
    "\n",
    "for index in range(0, len(seq1)):\n",
    "    \n",
    "    grid = make_canvas(black, width=canvas_width, height=canvas_height)\n",
    "    \n",
    "    for seq in [seq1, seq2, seq3, seq4]:\n",
    "        xoffset, yoffset = seq[index]\n",
    "        show_map = make_shape(grid, white, shape=\"rectangle\", shape_width=1, shape_height=1, xalign=\"left\", yalign=\"bottom\", xoffset=xoffset, yoffset=yoffset)\n",
    "        grid = draw(grid, show_map, white)\n",
    "    generate_image(grid, show=False, save=True, outdir=\"square-assembly\", filename=f\"{index}.png\")\n"
   ]
  }
 ],
 "metadata": {
  "anaconda-cloud": {},
  "kernelspec": {
   "display_name": "milo",
   "language": "python",
   "name": "milo"
  },
  "language_info": {
   "codemirror_mode": {
    "name": "ipython",
    "version": 3
   },
   "file_extension": ".py",
   "mimetype": "text/x-python",
   "name": "python",
   "nbconvert_exporter": "python",
   "pygments_lexer": "ipython3",
   "version": "3.9.12"
  }
 },
 "nbformat": 4,
 "nbformat_minor": 4
}
